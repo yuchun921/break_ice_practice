{
 "cells": [
  {
   "cell_type": "markdown",
   "id": "0287464a",
   "metadata": {},
   "source": [
    "# Q19. 輸入tuple:(name, age, score)做升序\n",
    "### Question:\n",
    "> You are required to write a program to sort the (name, age, score) tuples by ascending order where name is string, age and score are numbers.  \n",
    "> The tuples are input by console. The sort criteria is:  \n",
    "> - Sort based on name  \n",
    "> - Then sort based on age  \n",
    "> - Then sort by score  \n",
    ">\n",
    ">The priority is that name > age > score.\n",
    "\n",
    ">Suppose the following input is supplied to the program:  \n",
    "\n",
    "Tom,19,80  \n",
    "John,20,90  \n",
    "Jony,17,91  \n",
    "Jony,17,93  \n",
    "Json,21,85  \n",
    "\n",
    ">Then, the output should be:  \n",
    "\n",
    "[('John', '20', '90'), ('Jony', '17', '91'), ('Jony', '17', '93'), ('Json', '21', '85'), ('Tom', '19', '80')]"
   ]
  },
  {
   "cell_type": "code",
   "execution_count": null,
   "id": "e7dd5e64",
   "metadata": {},
   "outputs": [],
   "source": [
    "def Question_19():\n",
    "    result = []\n",
    "    while True:\n",
    "        user_input = input()\n",
    "        if not user_input:\n",
    "            break\n",
    "        result.append(tuple(user_input.split(\",\")))\n",
    "\n",
    "    result.sort(key= lambda x:(x[0],int(x[1]),int(x[2])))\n",
    "    print(result)\n",
    "    \n",
    "Question_19()"
   ]
  },
  {
   "cell_type": "markdown",
   "id": "24dc8b0c",
   "metadata": {},
   "source": [
    "# Q20. 使用生成器定義一個類, 可以輸出0~n被 7 整除的數字\n",
    "### Question:\n",
    ">Define a class with a generator which can iterate the numbers, which are divisible by 7, between a given range 0 and n.  \n",
    "\n",
    ">Suppose the following input is supplied to the program:  \n",
    "```\n",
    "7 \n",
    "```\n",
    ">Then, the output should be:  \n",
    "```\n",
    "0  \n",
    "7  \n",
    "```\n",
    "### Hints:\n",
    "> Consider use `class`, `function` and `comprehension`."
   ]
  },
  {
   "cell_type": "code",
   "execution_count": null,
   "id": "1bc7737f",
   "metadata": {},
   "outputs": [],
   "source": [
    "class divisible:\n",
    "    def by_7(self, num):\n",
    "        for num in range(0, num + 1):\n",
    "            if num % 7 == 0:\n",
    "                yield num\n",
    "\n",
    "\n",
    "def Question_20():\n",
    "    div = divisible()\n",
    "    generator = div.by_7(int(input(\"Please insert a number: \")))\n",
    "    for number in generator:\n",
    "        print(number)\n",
    "\n",
    "\n",
    "Question_20()"
   ]
  },
  {
   "cell_type": "markdown",
   "id": "911b87bc",
   "metadata": {},
   "source": [
    "# Q21. 機器人從原點(0,0) 開始在平面上移動, 按照給定的步數上、下、左和右移動\n",
    "### Question:\n",
    "> A robot moves in a plane starting from the original point (0,0). The robot can move toward UP, DOWN, LEFT and RIGHT with a given steps.  \n",
    "> The numbers after the direction are steps.  \n",
    "> If the distance is a float, then just print the nearest integer.  \n",
    "\n",
    ">Suppose the following input is supplied to the program:  \n",
    "```\n",
    "UP 5\n",
    "DOWN 3\n",
    "LEFT 3\n",
    "RIGHT 2\n",
    "```\n",
    "> Then, the output should be:  \n",
    "```\n",
    "2 \n",
    "```\n",
    "### Hints:\n",
    "> Import math module to use `sqrt` function."
   ]
  },
  {
   "cell_type": "code",
   "execution_count": 10,
   "id": "eea38b16",
   "metadata": {},
   "outputs": [
    {
     "name": "stdout",
     "output_type": "stream",
     "text": [
      "The format is 'UP/DOWN/LEFT/RIGHT 4' --> UP 4 or DOWN 2\n",
      "Press enter to finish.\n",
      "UP 8\n",
      "DOWN 4\n",
      "LEFT 6\n",
      "RIGHT 3\n",
      "\n",
      "distance from (0,0): 5\n"
     ]
    }
   ],
   "source": [
    "from math import sqrt\n",
    "\n",
    "def Question_21():\n",
    "    location = [0, 0]\n",
    "    print(f\"The format is 'UP/DOWN/LEFT/RIGHT 4' --> UP 4 or DOWN 2\")\n",
    "    print(f\"Press enter to finish.\")\n",
    "    while True:\n",
    "        move_step = input(\"\").split()\n",
    "        if not move_step:\n",
    "            break\n",
    "\n",
    "        direction = move_step[0]\n",
    "        steps = move_step[1]\n",
    "        if direction == \"UP\":\n",
    "            location[1] += int(steps)\n",
    "        elif direction == \"DOWN\":\n",
    "            location[1] -= int(steps)\n",
    "        elif direction == \"LEFT\":\n",
    "            location[0] += int(steps)\n",
    "        elif direction == \"RIGHT\":\n",
    "            location[0] -= int(steps)\n",
    "\n",
    "    distance = round(sqrt(location[0]**2+location[1]**2))\n",
    "    print(f\"distance from (0,0): {distance}\")\n",
    "    \n",
    "Question_21()"
   ]
  }
 ],
 "metadata": {
  "kernelspec": {
   "display_name": "Python 3",
   "language": "python",
   "name": "python3"
  },
  "language_info": {
   "codemirror_mode": {
    "name": "ipython",
    "version": 3
   },
   "file_extension": ".py",
   "mimetype": "text/x-python",
   "name": "python",
   "nbconvert_exporter": "python",
   "pygments_lexer": "ipython3",
   "version": "3.8.9"
  }
 },
 "nbformat": 4,
 "nbformat_minor": 5
}
