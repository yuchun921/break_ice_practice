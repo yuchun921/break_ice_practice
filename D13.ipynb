{
 "cells": [
  {
   "cell_type": "markdown",
   "id": "1b46f8de",
   "metadata": {},
   "source": [
    "# Tuple 系列\n",
    "---"
   ]
  },
  {
   "cell_type": "markdown",
   "id": "0287464a",
   "metadata": {},
   "source": [
    "# Q37. 輸出tuple = (1~20的平方)\n",
    "\n",
    "### Question:\n",
    "> Define a function which can generate and print a tuple where the value are square of numbers between 1 and 20 (both included).\n",
    "\n",
    "### Hint:\n",
    "> 1. List comprehension\n",
    "> 2. Type conversion: `tuple()`"
   ]
  },
  {
   "cell_type": "code",
   "execution_count": 1,
   "id": "e7dd5e64",
   "metadata": {},
   "outputs": [
    {
     "name": "stdout",
     "output_type": "stream",
     "text": [
      "tuple = (1, 4, 9, 16, 25, 36, 49, 64, 81, 100, 121, 144, 169, 196, 225, 256, 289, 324, 361, 400)\n"
     ]
    }
   ],
   "source": [
    "def Question_37(num):\n",
    "    result = [n ** 2 for n in range(1, num + 1)]\n",
    "    print(f\"tuple = {tuple(result)}\")\n",
    "\n",
    "\n",
    "Question_37(20)"
   ]
  },
  {
   "cell_type": "markdown",
   "id": "24dc8b0c",
   "metadata": {},
   "source": [
    "# Q38. 輸出tuple = (1~10), 分成一半分行輸出\n",
    "\n",
    "### Question:\n",
    "> With a given tuple (1,2,3,4,5,6,7,8,9,10), write a program to print the first half values in one line and the last half values in one line.  \n",
    "\n",
    "### Hint:\n",
    "> 1. `tuple[:]`取值"
   ]
  },
  {
   "cell_type": "code",
   "execution_count": 4,
   "id": "1bc7737f",
   "metadata": {},
   "outputs": [
    {
     "name": "stdout",
     "output_type": "stream",
     "text": [
      "first half = (1, 2, 3, 4, 5)\n",
      "last half = (6, 7, 8, 9, 10)\n"
     ]
    }
   ],
   "source": [
    "def Question_38(num):\n",
    "    all_tuple = tuple([n for n in range(1, num + 1)])\n",
    "    print(f\"first half = {all_tuple[:num//2]}\")\n",
    "    print(f\"last half = {all_tuple[num//2:]}\")\n",
    "\n",
    "\n",
    "Question_38(10)"
   ]
  },
  {
   "cell_type": "markdown",
   "id": "98bc156c",
   "metadata": {},
   "source": [
    "# Q39. 給個tuple=(1~10), 輸出偶數值\n",
    "\n",
    "### Question:\n",
    "> Write a program to generate and print another tuple whose values are even numbers in the given tuple (1,2,3,4,5,6,7,8,9,10). "
   ]
  },
  {
   "cell_type": "code",
   "execution_count": 6,
   "id": "28b35985",
   "metadata": {},
   "outputs": [
    {
     "name": "stdout",
     "output_type": "stream",
     "text": [
      "tuple = (2, 4, 6, 8, 10)\n"
     ]
    }
   ],
   "source": [
    "def Question_39(num):\n",
    "    result = tuple(n for n in range(1, num + 1) if n % 2 == 0)\n",
    "    print(f\"tuple = {result}\")\n",
    "\n",
    "\n",
    "Question_39(10)"
   ]
  }
 ],
 "metadata": {
  "kernelspec": {
   "display_name": "Python 3",
   "language": "python",
   "name": "python3"
  },
  "language_info": {
   "codemirror_mode": {
    "name": "ipython",
    "version": 3
   },
   "file_extension": ".py",
   "mimetype": "text/x-python",
   "name": "python",
   "nbconvert_exporter": "python",
   "pygments_lexer": "ipython3",
   "version": "3.8.9"
  }
 },
 "nbformat": 4,
 "nbformat_minor": 5
}
