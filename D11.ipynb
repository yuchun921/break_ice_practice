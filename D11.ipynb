{
 "cells": [
  {
   "cell_type": "markdown",
   "id": "2c2cd3b1",
   "metadata": {},
   "source": [
    "# Dictionary 系列\n",
    "---"
   ]
  },
  {
   "cell_type": "markdown",
   "id": "0287464a",
   "metadata": {},
   "source": [
    "# Q31. 輸出dict, key : 1～20, values 是 1～20 平方\n",
    "### Question:\n",
    "> Define a function which can print a dictionary where the keys are numbers between 1 and 20 (both included) and the values are square of keys.\n",
    "\n",
    "### Hint:\n",
    "> 1. square can use `**` operator  \n",
    "> 2. dict comprehension\n",
    "\n",
    "#### [NOTE!!!!!] 類似03"
   ]
  },
  {
   "cell_type": "code",
   "execution_count": 1,
   "id": "e7dd5e64",
   "metadata": {},
   "outputs": [
    {
     "name": "stdout",
     "output_type": "stream",
     "text": [
      "dictionary = {1: 1, 2: 4, 3: 9, 4: 16, 5: 25, 6: 36, 7: 49, 8: 64, 9: 81, 10: 100, 11: 121, 12: 144, 13: 169, 14: 196, 15: 225, 16: 256, 17: 289, 18: 324, 19: 361, 20: 400}\n"
     ]
    }
   ],
   "source": [
    "def Question_31():\n",
    "    result = {n: n ** 2 for n in range(1, 20 + 1)}\n",
    "    print(f\"dictionary = {result}\")\n",
    "\n",
    "\n",
    "Question_31()"
   ]
  },
  {
   "cell_type": "markdown",
   "id": "24dc8b0c",
   "metadata": {},
   "source": [
    "# Q32. 輸出dict的key, key : 1～20, values 是 1～20 平方\n",
    "\n",
    "### Question:\n",
    "> Define a function which can generate a dictionary where the keys are numbers between 1 and 20 (both included) and the values are square of keys.  \n",
    "> The function should just print the keys only.\n",
    "\n",
    "### Hint:\n",
    "> dict comprehension  \n",
    "> \n",
    "> `dict.keys()`"
   ]
  },
  {
   "cell_type": "code",
   "execution_count": 2,
   "id": "1bc7737f",
   "metadata": {},
   "outputs": [
    {
     "name": "stdout",
     "output_type": "stream",
     "text": [
      "dict_keys([1, 2, 3, 4, 5, 6, 7, 8, 9, 10, 11, 12, 13, 14, 15, 16, 17, 18, 19, 20])\n"
     ]
    }
   ],
   "source": [
    "def Question_32():\n",
    "    dictionary = {n:n**2 for n in range(1,21)}\n",
    "    print(dictionary.keys())\n",
    "\n",
    "Question_32()"
   ]
  }
 ],
 "metadata": {
  "kernelspec": {
   "display_name": "Python 3",
   "language": "python",
   "name": "python3"
  },
  "language_info": {
   "codemirror_mode": {
    "name": "ipython",
    "version": 3
   },
   "file_extension": ".py",
   "mimetype": "text/x-python",
   "name": "python",
   "nbconvert_exporter": "python",
   "pygments_lexer": "ipython3",
   "version": "3.8.9"
  }
 },
 "nbformat": 4,
 "nbformat_minor": 5
}
