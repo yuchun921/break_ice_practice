{
 "cells": [
  {
   "cell_type": "markdown",
   "metadata": {},
   "source": [
    "# Q10. 輸入單詞序列, 以空格隔開, 去掉重複的元素並排序\n",
    "## Question:\n",
    "> Enter a sequence of whitespace separated words as input and prints the words after removing all duplicate words and sorting them alphanumerically.\n",
    "\n",
    "> Suppose the following input is supplied to the program:  \n",
    "\n",
    "hello world and practice makes perfect and hello world again\n",
    "\n",
    "> Then, the output should be:  \n",
    "\n",
    "again and hello makes perfect practice world"
   ]
  },
  {
   "cell_type": "code",
   "execution_count": null,
   "metadata": {},
   "outputs": [],
   "source": [
    "def Question_10():\n",
    "    sequence_words = input(\"Enter a string separated by blanks: \").split(\" \")\n",
    "    result = sorted(set(sequence_words))\n",
    "    print(f\"result= {' '.join(result)}\")\n",
    "\n",
    "\n",
    "Question_10()"
   ]
  },
  {
   "cell_type": "markdown",
   "metadata": {},
   "source": [
    "# Q11. 以4位二進制數作為輸入, 印出可被 5 整除的數\n",
    "> Write a program which accepts a sequence of comma separated 4 digit binary numbers as its input and then check whether they are divisible by 5 or not.  \n",
    "> The numbers that are divisible by 5 are to be printed in a comma separated sequence.\n",
    "\n",
    "> Suppose the following input is supplied to the program:\n",
    "\n",
    "0100,0011,1010,1001\n",
    "\n",
    "> Then, the output should be:  \n",
    "\n",
    "1010"
   ]
  },
  {
   "cell_type": "code",
   "execution_count": null,
   "metadata": {},
   "outputs": [],
   "source": [
    "def Question_11():\n",
    "    user_input = input(\"Enter 4 digit binary numbers separated by comma: \").split(\",\")\n",
    "    answer = [each_input for each_input in user_input if int(each_input, 2) % 5 == 0]\n",
    "\n",
    "    print(f'The numbers that are divisible by 5 = {\",\".join(answer)}')\n",
    "\n",
    "\n",
    "Question_11()"
   ]
  },
  {
   "cell_type": "markdown",
   "metadata": {},
   "source": [
    "# Q12. 找出 1000 到 3000 (包含)之間所有位數都是偶數的數字\n",
    "> Write a program, which will find all such numbers between 1000 and 3000 (both included) such that each digit of the number is an even number.  \n",
    "> The numbers obtained should be printed in a comma-separated sequence on a single line."
   ]
  },
  {
   "cell_type": "code",
   "execution_count": null,
   "metadata": {},
   "outputs": [],
   "source": [
    "def Question_12():\n",
    "    answer = [\n",
    "        str(i)\n",
    "        for i in range(1000, 3001)\n",
    "        if int(str(i)[0]) % 2 == 0 and int(str(i)[1]) % 2 == 0 and int(str(i)[2]) % 2 == 0 and int(str(i)[3]) % 2 == 0\n",
    "    ]\n",
    "    print(\", \".join(answer))\n",
    "\n",
    "    \n",
    "Question_12()"
   ]
  }
 ],
 "metadata": {
  "kernelspec": {
   "display_name": "Python 3",
   "language": "python",
   "name": "python3"
  },
  "language_info": {
   "codemirror_mode": {
    "name": "ipython",
    "version": 3
   },
   "file_extension": ".py",
   "mimetype": "text/x-python",
   "name": "python",
   "nbconvert_exporter": "python",
   "pygments_lexer": "ipython3",
   "version": "3.8.1"
  }
 },
 "nbformat": 4,
 "nbformat_minor": 4
}
