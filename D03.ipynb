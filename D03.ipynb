{
 "cells": [
  {
   "cell_type": "markdown",
   "metadata": {},
   "source": [
    "# Q07. 輸入row、col, 生成一個row*col的矩陣, 此矩陣在對應的位置上的數字為行和列的乘積\n",
    "## Question:\n",
    "> Write a program which takes 2 digits, X,Y as input and generates a 2-dimensional array. The element value in the i-th row and j-th column of the array should be i _ j.\n",
    "\n",
    "> Note: i=0,1.., X-1; j=0,1,¡­Y-1. Suppose the following inputs are given to the program: 3,5\n",
    "\n",
    "> Then, the output of the program should be: [[0, 0, 0, 0, 0], [0, 1, 2, 3, 4], [0, 2, 4, 6, 8]]"
   ]
  },
  {
   "cell_type": "code",
   "execution_count": null,
   "metadata": {},
   "outputs": [],
   "source": []
  },
  {
   "cell_type": "markdown",
   "metadata": {},
   "source": [
    "# Q08. 輸入一個逗號隔開的字母序列, 輸出排序後的序列\n",
    "> Write a program that accepts a comma separated sequence of words as input and prints the words in a comma-separated sequence after sorting them alphabetically.\n",
    "\n",
    "> Suppose the following input is supplied to the program:\n",
    "\n",
    "without,hello,bag,world\n",
    "\n",
    "> Then, the output should be:  \n",
    "\n",
    "bag,hello,without,world"
   ]
  },
  {
   "cell_type": "code",
   "execution_count": null,
   "metadata": {},
   "outputs": [],
   "source": [
    "def Question_08():\n",
    "    words = input(\"Enter a sequence of words separated by comma: \").split(\",\")\n",
    "    result = sorted(words)\n",
    "    print(f\"result = {', '.join(result)}\")\n",
    "\n",
    "\n",
    "Question_08()"
   ]
  },
  {
   "cell_type": "markdown",
   "metadata": {},
   "source": [
    "# Q09. 輸入句子序列, 以大寫output\n",
    "> Enter sequence of lines as input, and prints the lines after making all characters in the sentence capitalized.\n",
    "\n",
    "> Suppose the following input is supplied to the program:\n",
    "\n",
    "Hello world  \n",
    "Practice makes perfect\n",
    "\n",
    "> Then, the output should be:  \n",
    "\n",
    "HELLO WORLD  \n",
    "PRACTICE MAKES PERFECT"
   ]
  },
  {
   "cell_type": "code",
   "execution_count": null,
   "metadata": {},
   "outputs": [],
   "source": [
    "def Question_09():\n",
    "    result = []\n",
    "    while True:\n",
    "        words = input()\n",
    "        if words:\n",
    "            result.append(words)\n",
    "        if not words:\n",
    "            break\n",
    "\n",
    "    for word in result:\n",
    "        print(f\"{word.upper()}\")\n",
    "\n",
    "\n",
    "Question_09()"
   ]
  }
 ],
 "metadata": {
  "kernelspec": {
   "display_name": "Python 3",
   "language": "python",
   "name": "python3"
  },
  "language_info": {
   "codemirror_mode": {
    "name": "ipython",
    "version": 3
   },
   "file_extension": ".py",
   "mimetype": "text/x-python",
   "name": "python",
   "nbconvert_exporter": "python",
   "pygments_lexer": "ipython3",
   "version": "3.8.1"
  }
 },
 "nbformat": 4,
 "nbformat_minor": 4
}
