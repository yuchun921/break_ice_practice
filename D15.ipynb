{
 "cells": [
  {
   "cell_type": "markdown",
   "metadata": {},
   "source": [
    "# Q43. 用filter()得到1~20中偶數的數\n",
    "\n",
    "### Question:\n",
    "> Write a program which can filter() to make a list whose elements are even number between 1 and 20 (both included).\n",
    "\n",
    "### Hint:\n",
    "> `filter(function, iterable)`"
   ]
  },
  {
   "cell_type": "code",
   "execution_count": 1,
   "metadata": {},
   "outputs": [
    {
     "name": "stdout",
     "output_type": "stream",
     "text": [
      "result=[2, 4, 6, 8, 10, 12, 14, 16, 18, 20]\n"
     ]
    }
   ],
   "source": [
    "def even(num):\n",
    "    return num % 2 == 0\n",
    "\n",
    "\n",
    "def Question_43(num):\n",
    "    result = filter(even, range(1, num + 1))\n",
    "    print(f\"result={list(result)}\")\n",
    "\n",
    "\n",
    "Question_43(20)"
   ]
  },
  {
   "cell_type": "markdown",
   "metadata": {},
   "source": [
    "# Q44. 用map()建list, 輸出list值的平方\n",
    "\n",
    "### Question:\n",
    "> Write a program which can map() to make a list whose elements are square of numbers between 1 and 20 (both included). \n",
    "\n",
    "### Hint:\n",
    ">1. `map()` : https://www.wongwonggoods.com/python/python-map/\n",
    ">\n",
    ">2. Similar to Q41."
   ]
  },
  {
   "cell_type": "code",
   "execution_count": 3,
   "metadata": {},
   "outputs": [
    {
     "name": "stdout",
     "output_type": "stream",
     "text": [
      "result=[1, 4, 9, 16, 25, 36, 49, 64, 81, 100, 121, 144, 169, 196, 225, 256, 289, 324, 361, 400]\n"
     ]
    }
   ],
   "source": [
    "def Question_44(num):\n",
    "    result = map(lambda n: n ** 2, [n for n in range(1, num + 1)])\n",
    "    print(f\"result={list(result)}\")\n",
    "\n",
    "\n",
    "Question_44(20)"
   ]
  },
  {
   "cell_type": "markdown",
   "metadata": {},
   "source": [
    "# Q45. 定義 American class, 有 printNationality 靜態方法\n",
    "\n",
    "### Question:\n",
    "> Define a class named American which has a static method called printNationality.\n",
    "\n",
    "### Hint:\n",
    "> Use [@staticmethod](https://www.runoob.com/python/python-func-staticmethod.html) decorator to define class static method.\n",
    "> - 不需要實例化: \n",
    "```\n",
    "American.printNationality()\n",
    "```\n",
    "> - 也可以實例化後再調用: \n",
    "```\n",
    "national = American()\n",
    "national.printNationality()\n",
    "```"
   ]
  },
  {
   "cell_type": "code",
   "execution_count": 7,
   "metadata": {},
   "outputs": [
    {
     "name": "stdout",
     "output_type": "stream",
     "text": [
      "America\n"
     ]
    }
   ],
   "source": [
    "class American():\n",
    "    @staticmethod\n",
    "    def printNationality():\n",
    "        print(\"America\")\n",
    "\n",
    "American.printNationality()"
   ]
  }
 ],
 "metadata": {
  "kernelspec": {
   "display_name": "Python 3",
   "language": "python",
   "name": "python3"
  },
  "language_info": {
   "codemirror_mode": {
    "name": "ipython",
    "version": 3
   },
   "file_extension": ".py",
   "mimetype": "text/x-python",
   "name": "python",
   "nbconvert_exporter": "python",
   "pygments_lexer": "ipython3",
   "version": "3.8.1"
  }
 },
 "nbformat": 4,
 "nbformat_minor": 5
}
