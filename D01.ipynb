{
 "cells": [
  {
   "cell_type": "markdown",
   "metadata": {},
   "source": [
    "# Q01. 找出2000~3200能被7整除但不是5的倍數的數\n",
    "\n",
    "## Question:\n",
    "> Find all such numbers which are divisible by 7 but are not a multiple of 5, between 2000 and 3200.  \n",
    "The numbers obtained should be printed in a comma-separated sequence on a single line.\n",
    "\n",
    "---\n",
    "\n",
    "## Solution:\n",
    "> Can use for loop"
   ]
  },
  {
   "cell_type": "code",
   "execution_count": null,
   "metadata": {},
   "outputs": [],
   "source": [
    "def Question_01():\n",
    "    result_list = [str(i) for i in range(2000, 3201) if i % 7 == 0 and i % 5 != 0]\n",
    "    result = \", \".join(result_list) #取出列表中字串, 以逗號分隔\n",
    "    print(f\"result={result}\")\n",
    "\n",
    "\n",
    "Question_01()"
   ]
  },
  {
   "cell_type": "markdown",
   "metadata": {},
   "source": [
    "## another solution:\n",
    "> use generator\n",
    "\n",
    "### hint:\n",
    "list列表前加上*, 會把列表內元素拆開成獨立的參數\n",
    "\n",
    "```python\n",
    "a = [1, 2, 3, 4]\n",
    "print(*a)\n",
    "# 1 2 3 4\n",
    "```"
   ]
  },
  {
   "cell_type": "code",
   "execution_count": null,
   "metadata": {},
   "outputs": [],
   "source": [
    "print(*(i for i in range(2000, 3201) if i % 7 == 0 and i % 5 != 0), sep=\", \")"
   ]
  },
  {
   "cell_type": "markdown",
   "metadata": {},
   "source": [
    "# Q02. 計算給定數字的階乘\n",
    "## Question:\n",
    "> Write a program which can compute the factorial of a given numbers.  \n",
    "> The results should be printed in a comma-separated sequence on a single line.  \n",
    "> Suppose the following input is supplied to the program: 8 Then, the output should be:40320\n",
    "\n",
    "## Solution:\n",
    "> for loop"
   ]
  },
  {
   "cell_type": "code",
   "execution_count": null,
   "metadata": {},
   "outputs": [],
   "source": [
    "def Question_02(num: int) -> int:\n",
    "    factorial = 1\n",
    "    for i in range(1, num + 1):\n",
    "        factorial = factorial * i\n",
    "    print(factorial)\n",
    "\n",
    "\n",
    "num = int(input(\"Input a num: \"))\n",
    "Question_02(num)"
   ]
  },
  {
   "cell_type": "markdown",
   "metadata": {},
   "source": [
    "# Q03. 輸入數字, 產生字典\n",
    "## Question:\n",
    "> With a given integral number n, write a program to generate a dictionary that contains (i, i x i) such that is an integral number between 1 and n (both included), and then the program should print the dictionary.\n",
    "\n",
    "> Suppose the following input is supplied to the program: 8  \n",
    "> Then, the output should be: {1: 1, 2: 4, 3: 9, 4: 16, 5: 25, 6: 36, 7: 49, 8: 64}\n",
    "\n",
    "## Solution:\n",
    "> Dictionary Comprehension"
   ]
  },
  {
   "cell_type": "code",
   "execution_count": null,
   "metadata": {},
   "outputs": [],
   "source": [
    "def Question_03(num: int) -> dict:\n",
    "    \"\"\"Given integral number n, write a program to generate a dictionary that contains {i:i*i}\"\"\"\n",
    "    ans = {i: i * i for i in range(1, num + 1)}\n",
    "    print(ans)\n",
    "\n",
    "\n",
    "num = int(input(\"Input a num: \"))\n",
    "Question_03(num)"
   ]
  }
 ],
 "metadata": {
  "kernelspec": {
   "display_name": "Python 3",
   "language": "python",
   "name": "python3"
  },
  "language_info": {
   "codemirror_mode": {
    "name": "ipython",
    "version": 3
   },
   "file_extension": ".py",
   "mimetype": "text/x-python",
   "name": "python",
   "nbconvert_exporter": "python",
   "pygments_lexer": "ipython3",
   "version": "3.8.1"
  }
 },
 "nbformat": 4,
 "nbformat_minor": 4
}
