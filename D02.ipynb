{
 "cells": [
  {
   "cell_type": "markdown",
   "metadata": {},
   "source": [
    "# Q04. 一串逗號分隔的數字後生成一個列表和一個包含每個數字的元組\n",
    "## Question:\n",
    "> Write a program which accepts a sequence of comma-separated numbers from console and generate a list and a tuple which contains every number.\n",
    "\n",
    "> Suppose the following input is supplied to the program: \n",
    "\n",
    "34,67,55,33,12,98  \n",
    "> Then, the output should be:  \n",
    "\n",
    "['34', '67', '55', '33', '12', '98']  \n",
    "('34', '67', '55', '33', '12', '98')\n",
    "\n",
    "## Solution:\n",
    "> Split"
   ]
  },
  {
   "cell_type": "code",
   "execution_count": null,
   "metadata": {},
   "outputs": [],
   "source": [
    "def Question_04():\n",
    "    ans_list = input(\"Enter a series of numbers separated by a comma: \").split(\",\")  # seperated by comma\n",
    "    ans_tuple = tuple(ans_list)\n",
    "    print(f\"list= {ans_list}\\ntuple= {ans_tuple}\")\n",
    "\n",
    "\n",
    "Question_04()"
   ]
  },
  {
   "cell_type": "markdown",
   "metadata": {},
   "source": [
    "# Q05. 定義含有兩個方法的類別\n",
    "> Define a class which has at least two methods: \n",
    "> \n",
    ">- getString: to get a string from console input.  \n",
    ">- printString: to print the string in upper case.  \n",
    ">\n",
    "> Also please include simple test function to test the class methods."
   ]
  },
  {
   "cell_type": "code",
   "execution_count": null,
   "metadata": {},
   "outputs": [],
   "source": [
    "class Question_06(object):\n",
    "    def __init__(self):\n",
    "        self.inputs = \"\"\n",
    "\n",
    "    def get_string(self):\n",
    "        self.inputs = input(\"Enter a string: \")\n",
    "\n",
    "    def print_string(self):\n",
    "        print(f\"output= {self.inputs.upper()}\")\n",
    "\n",
    "\n",
    "result = Question_06()\n",
    "result.get_string()\n",
    "result.print_string()"
   ]
  },
  {
   "cell_type": "markdown",
   "metadata": {},
   "source": [
    "# Q06. 將輸入值丟入公式並輸出值\n",
    "> Write a program that calculates and prints the value according to the given formula:  \n",
    "> - Q = Square root of [(2 * C * D)/H]  \n",
    "> Following are the fixed values of C and H: C is 50, H is 30.\n",
    "> [Hint]: 輸出值應四捨五入取整數\n",
    "\n",
    "> For example Let us assume the following comma separated input sequence is given to the program:\n",
    "\n",
    "100,150,180\n",
    "\n",
    "> Then, the output should be:  \n",
    "\n",
    "18,22,24"
   ]
  },
  {
   "cell_type": "code",
   "execution_count": null,
   "metadata": {},
   "outputs": [],
   "source": [
    "from math import sqrt\n",
    "def formula(D):\n",
    "    C, H = 50, 30\n",
    "    return sqrt((2 * C * D) / H)\n",
    "\n",
    "\n",
    "def Question_06():\n",
    "    num = input(\"Enter a series of nums separated by comma: \").split(\",\")\n",
    "    result = [str(round(formula(int(i)))) for i in num]\n",
    "    print(f\"result= {', '.join(result)}\")\n",
    "\n",
    "\n",
    "Question_06()"
   ]
  }
 ],
 "metadata": {
  "kernelspec": {
   "display_name": "Python 3",
   "language": "python",
   "name": "python3"
  },
  "language_info": {
   "codemirror_mode": {
    "name": "ipython",
    "version": 3
   },
   "file_extension": ".py",
   "mimetype": "text/x-python",
   "name": "python",
   "nbconvert_exporter": "python",
   "pygments_lexer": "ipython3",
   "version": "3.8.1"
  }
 },
 "nbformat": 4,
 "nbformat_minor": 4
}
