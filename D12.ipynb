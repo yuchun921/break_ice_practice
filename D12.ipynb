{
 "cells": [
  {
   "cell_type": "markdown",
   "id": "e90e299b",
   "metadata": {},
   "source": [
    "# List 系列\n",
    "---"
   ]
  },
  {
   "cell_type": "markdown",
   "id": "eed28208",
   "metadata": {},
   "source": [
    "# Q33. 輸出list = [1~20的平方]\n",
    "\n",
    "### Question:\n",
    "> Define a function which can generate and print a list where the values are square of numbers between 1 and 20 (both included).  \n",
    "\n",
    "### Hint:\n",
    "> list comprehension"
   ]
  },
  {
   "cell_type": "code",
   "execution_count": null,
   "id": "cfac4baf",
   "metadata": {},
   "outputs": [],
   "source": [
    "def Question_33(num):\n",
    "    result = [n ** 2 for n in range(1, num + 1)]\n",
    "    print(f\"{result}\")\n",
    "\n",
    "Question_33(20)"
   ]
  },
  {
   "cell_type": "markdown",
   "id": "0287464a",
   "metadata": {},
   "source": [
    "# Q34. 輸出list = [1~20的平方], 只輸出前五個\n",
    "### Question:\n",
    "> Define a function which can generate a list where the values are square of numbers between 1 and 20 (both included).  \n",
    "> Then the function needs to print the first 5 elements in the list.\n",
    "\n",
    "### Hint:\n",
    "> 1. List comprehension\n",
    "> 2. `list[:]`取值"
   ]
  },
  {
   "cell_type": "code",
   "execution_count": 1,
   "id": "e7dd5e64",
   "metadata": {},
   "outputs": [
    {
     "name": "stdout",
     "output_type": "stream",
     "text": [
      "list = [1, 4, 9, 16, 25]\n"
     ]
    }
   ],
   "source": [
    "def Question_34(num):\n",
    "    result = [n ** 2 for n in range(1, num + 1)]\n",
    "    print(f\"list = {result[0:5]}\")\n",
    "\n",
    "\n",
    "Question_34(20)"
   ]
  },
  {
   "cell_type": "markdown",
   "id": "24dc8b0c",
   "metadata": {},
   "source": [
    "# Q35. 輸出list = [1~20的平方], 只輸出最後五個\n",
    "\n",
    "### Question:\n",
    "> Define a function which can generate a list where are square of numbers between 1 and 20 (both included).  \n",
    "> Then the function needs to print the last 5 elements in the list.  \n",
    "\n",
    "### Hint:\n",
    "> 1. List comprehension  \n",
    "> 2. `list[:]`取值"
   ]
  },
  {
   "cell_type": "code",
   "execution_count": 3,
   "id": "1bc7737f",
   "metadata": {},
   "outputs": [
    {
     "name": "stdout",
     "output_type": "stream",
     "text": [
      "list = [256, 289, 324, 361, 400]\n"
     ]
    }
   ],
   "source": [
    "def Question_35(num):\n",
    "    result = [n ** 2 for n in range(1, num + 1)]\n",
    "    print(f\"list = {result[-5:]}\")\n",
    "\n",
    "\n",
    "Question_35(20)"
   ]
  },
  {
   "cell_type": "markdown",
   "id": "98bc156c",
   "metadata": {},
   "source": [
    "# Q36. 輸出list = [1~20的平方], 輸出前五個之外的值\n",
    "\n",
    "### Question:\n",
    "> Define a function which can generate a list where the values are square of numbers between 1 and 20 (both included).  \n",
    "> Then the function needs to print all values except the first 5 elements in the list.  \n",
    "\n",
    "### Hint:\n",
    "> 1. List comprehension  \n",
    "> 2. `list[:]`取值"
   ]
  },
  {
   "cell_type": "code",
   "execution_count": 4,
   "id": "28b35985",
   "metadata": {},
   "outputs": [
    {
     "name": "stdout",
     "output_type": "stream",
     "text": [
      "list = [36, 49, 64, 81, 100, 121, 144, 169, 196, 225, 256, 289, 324, 361, 400]\n"
     ]
    }
   ],
   "source": [
    "def Question_36(num):\n",
    "    result = [n ** 2 for n in range(1, num + 1)]\n",
    "    print(f\"list = {result[5:]}\")\n",
    "    \n",
    "    \n",
    "Question_36(20)"
   ]
  }
 ],
 "metadata": {
  "kernelspec": {
   "display_name": "Python 3",
   "language": "python",
   "name": "python3"
  },
  "language_info": {
   "codemirror_mode": {
    "name": "ipython",
    "version": 3
   },
   "file_extension": ".py",
   "mimetype": "text/x-python",
   "name": "python",
   "nbconvert_exporter": "python",
   "pygments_lexer": "ipython3",
   "version": "3.8.9"
  }
 },
 "nbformat": 4,
 "nbformat_minor": 5
}
