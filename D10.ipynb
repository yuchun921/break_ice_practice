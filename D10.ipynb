{
 "cells": [
  {
   "cell_type": "markdown",
   "id": "0287464a",
   "metadata": {},
   "source": [
    "# Q28. 將str轉int, 且計算總和\n",
    "### Question:\n",
    "> Define a function that can receive two integer numbers in string form and compute their sum and then print it in console.\n",
    "\n",
    "### Hint:\n",
    "> `int()`"
   ]
  },
  {
   "cell_type": "code",
   "execution_count": 7,
   "id": "e7dd5e64",
   "metadata": {},
   "outputs": [
    {
     "name": "stdout",
     "output_type": "stream",
     "text": [
      "Enter num1: 5\n",
      "Enter num2: 3\n",
      "sum = 8, type = <class 'int'>\n"
     ]
    }
   ],
   "source": [
    "def convert_int_sum(num1:str, num2:str)->int:\n",
    "    return int(num1)+int(num2)\n",
    "\n",
    "\n",
    "def Question_28():\n",
    "    num1 = input(\"Enter num1: \")\n",
    "    num2 = input(\"Enter num2: \")\n",
    "    result = convert_int_sum(num1, num2)\n",
    "    print(f\"sum = {result}, type = {type(result)}\")\n",
    "\n",
    "\n",
    "Question_28()"
   ]
  },
  {
   "cell_type": "markdown",
   "id": "24dc8b0c",
   "metadata": {},
   "source": [
    "# Q29. 寫個能將字串相連的方法\n",
    "### Question:\n",
    "> Define a function that can accept two strings as input and concatenate them and then print it in console."
   ]
  },
  {
   "cell_type": "code",
   "execution_count": 8,
   "id": "1bc7737f",
   "metadata": {},
   "outputs": [
    {
     "name": "stdout",
     "output_type": "stream",
     "text": [
      "Enter str1: 5uk\n",
      "Enter str2: 9pie\n",
      "concat str=5uk9pie\n"
     ]
    }
   ],
   "source": [
    "def concat_str(s1: str, s2: str) -> str:\n",
    "    return s1 + s2\n",
    "\n",
    "def Question_29():\n",
    "    s1 = input(\"Enter str1: \")\n",
    "    s2 = input(\"Enter str2: \")\n",
    "    result = concat_str(s1, s2)\n",
    "    print(f\"concat str={result}\")\n",
    "\n",
    "Question_29()"
   ]
  },
  {
   "cell_type": "markdown",
   "id": "98bc156c",
   "metadata": {},
   "source": [
    "# Q30. 輸入兩個字串, 輸入長度最長的字串, 若長度相等則分行輸出\n",
    "\n",
    "### Question:\n",
    "> Define a function that can accept two strings as input and print the string with maximum length in console.  \n",
    "> If two strings hava the same length, then the function should print all strings line by line.\n",
    "\n",
    "### Hint:\n",
    "> `len()` : 返回字串、列表、字典、元組等長度"
   ]
  },
  {
   "cell_type": "code",
   "execution_count": 9,
   "id": "28b35985",
   "metadata": {},
   "outputs": [
    {
     "name": "stdout",
     "output_type": "stream",
     "text": [
      "Enter s1: device\n",
      "Enter s2: beauty\n",
      "device\n",
      "beauty\n"
     ]
    }
   ],
   "source": [
    "def str_len(s1: str, s2: str) -> str:\n",
    "    s1_len = len(s1)\n",
    "    s2_len = len(s2)\n",
    "    if s1_len > s2_len:\n",
    "        return s1\n",
    "    elif s1_len < s2_len:\n",
    "        return s2\n",
    "    elif s1_len == s2_len:\n",
    "        return f\"{s1}\\n{s2}\"\n",
    "\n",
    "def Question_30():\n",
    "    s1 = input(\"Enter s1: \")\n",
    "    s2 = input(\"Enter s2: \")\n",
    "    print(f\"{str_len(s1, s2)}\")\n",
    "\n",
    "Question_30()"
   ]
  }
 ],
 "metadata": {
  "kernelspec": {
   "display_name": "Python 3",
   "language": "python",
   "name": "python3"
  },
  "language_info": {
   "codemirror_mode": {
    "name": "ipython",
    "version": 3
   },
   "file_extension": ".py",
   "mimetype": "text/x-python",
   "name": "python",
   "nbconvert_exporter": "python",
   "pygments_lexer": "ipython3",
   "version": "3.8.9"
  }
 },
 "nbformat": 4,
 "nbformat_minor": 5
}
