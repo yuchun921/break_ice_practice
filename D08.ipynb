{
 "cells": [
  {
   "cell_type": "markdown",
   "id": "0287464a",
   "metadata": {},
   "source": [
    "# Q22. 計算輸入的單字次數, 輸出照字母排序\n",
    "### Question:\n",
    "> Write a program to compute the frequency of the words from the input.  \n",
    "> The output should output after sorting the key alphanumerically.  \n",
    "\n",
    ">Suppose the following input is supplied to the program:  \n",
    "```\n",
    "New to Python or choosing between Python 2 and Python 3? Read Python 2 or Python 3.  \n",
    "```\n",
    ">Then, the output should be:  \n",
    "```\n",
    "2:2\n",
    "3.:1\n",
    "3?:1\n",
    "New:1\n",
    "Python:5\n",
    "Read:1\n",
    "and:1\n",
    "between:1\n",
    "choosing:1\n",
    "or:2\n",
    "to:1\n",
    "```"
   ]
  },
  {
   "cell_type": "code",
   "execution_count": 5,
   "id": "e7dd5e64",
   "metadata": {},
   "outputs": [
    {
     "name": "stdout",
     "output_type": "stream",
     "text": [
      "Sentence: New to Python or choosing between Python 2 and Python 3? Read Python 2 or Python 3.\n",
      "2:2\n",
      "3.:1\n",
      "3?:1\n",
      "New:1\n",
      "Python:5\n",
      "Read:1\n",
      "and:1\n",
      "between:1\n",
      "choosing:1\n",
      "or:2\n",
      "to:1\n"
     ]
    }
   ],
   "source": [
    "def Question_22():\n",
    "    words = input(\"Sentence: \").split()\n",
    "    result = {word: words.count(word) for word in words}\n",
    "    ans = sorted(result.items())\n",
    "    for word_count in ans:\n",
    "        print(f\"{word_count[0]}:{word_count[1]}\")\n",
    "\n",
    "\n",
    "Question_22()"
   ]
  },
  {
   "cell_type": "markdown",
   "id": "24dc8b0c",
   "metadata": {},
   "source": [
    "# Q23. 寫一個方法可以計算輸入數平方\n",
    "### Question:\n",
    "> Write a method which can calculate square value of number.  \n",
    "\n",
    ">Suppose the following input is supplied to the program:  \n",
    "```\n",
    "5\n",
    "```\n",
    ">Then, the output should be:  \n",
    "```\n",
    "25 \n",
    "```"
   ]
  },
  {
   "cell_type": "code",
   "execution_count": 12,
   "id": "1bc7737f",
   "metadata": {},
   "outputs": [
    {
     "name": "stdout",
     "output_type": "stream",
     "text": [
      "Enter a num: 7\n",
      "square = 49\n"
     ]
    }
   ],
   "source": [
    "def Question_23():\n",
    "    def square(num):\n",
    "        return num**2\n",
    "    \n",
    "    num = int(input(\"Enter a num: \"))\n",
    "    print(f\"square = {square(num)}\")\n",
    "\n",
    "\n",
    "Question_23()"
   ]
  },
  {
   "cell_type": "markdown",
   "id": "98bc156c",
   "metadata": {},
   "source": [
    "# Q24. 內建函數使用\n",
    "### Question:\n",
    "> Python has many built-in functions, and if you do not know how to use it, you can read document online or find some books."
   ]
  },
  {
   "cell_type": "code",
   "execution_count": 7,
   "id": "28b35985",
   "metadata": {},
   "outputs": [
    {
     "name": "stdout",
     "output_type": "stream",
     "text": [
      "str(object='') -> str\n",
      "str(bytes_or_buffer[, encoding[, errors]]) -> str\n",
      "\n",
      "Create a new string object from the given object. If encoding or\n",
      "errors is specified, then the object must expose a data buffer\n",
      "that will be decoded using the given encoding and error handler.\n",
      "Otherwise, returns the result of object.__str__() (if defined)\n",
      "or repr(object).\n",
      "encoding defaults to sys.getdefaultencoding().\n",
      "errors defaults to 'strict'.\n",
      "Return a new list containing all items from the iterable in ascending order.\n",
      "\n",
      "A custom key function can be supplied to customize the sort order, and the\n",
      "reverse flag can be set to request the result in descending order.\n",
      "n^p=81\n",
      "None\n"
     ]
    }
   ],
   "source": [
    "print(str.__doc__)\n",
    "print(sorted.__doc__)\n",
    "\n",
    "\n",
    "def Question_24():\n",
    "    def pow(n, p):\n",
    "        # n^p\n",
    "        return n ** p\n",
    "\n",
    "    print(f\"n^p={pow(3,4)}\")\n",
    "    print(pow.__doc__)\n",
    "\n",
    "\n",
    "Question_24()"
   ]
  },
  {
   "cell_type": "code",
   "execution_count": null,
   "id": "f7e2b7ca",
   "metadata": {},
   "outputs": [],
   "source": []
  }
 ],
 "metadata": {
  "kernelspec": {
   "display_name": "Python 3",
   "language": "python",
   "name": "python3"
  },
  "language_info": {
   "codemirror_mode": {
    "name": "ipython",
    "version": 3
   },
   "file_extension": ".py",
   "mimetype": "text/x-python",
   "name": "python",
   "nbconvert_exporter": "python",
   "pygments_lexer": "ipython3",
   "version": "3.8.9"
  }
 },
 "nbformat": 4,
 "nbformat_minor": 5
}
