{
 "cells": [
  {
   "cell_type": "markdown",
   "metadata": {},
   "source": [
    "# Q25. 定義一個類別, 其中含有類參數和實體參數\n",
    "### Question:\n",
    "> Define a class, which have a class parameter and have a same instance parameter.  \n",
    "\n",
    "### Hint:\n",
    "> Define an instance parameter, need add it in __init__ method.  \n",
    "> You can init an object with construct parameter or set the value later"
   ]
  },
  {
   "cell_type": "code",
   "execution_count": 1,
   "metadata": {},
   "outputs": [
    {
     "name": "stdout",
     "output_type": "stream",
     "text": [
      "Dog type is Shiba.\n",
      "Dog type is Beagle.\n"
     ]
    }
   ],
   "source": [
    "class Dog:\n",
    "    type = \"Dog\"\n",
    "\n",
    "    def __init__(self, type=None) -> None:\n",
    "        self.type = type\n",
    "\n",
    "\n",
    "def Question_25():\n",
    "    dog = Dog(\"Shiba\")\n",
    "    print(f\"{Dog.type} type is {dog.type}.\")\n",
    "\n",
    "    dog = Dog()\n",
    "    dog.type = \"Beagle\"\n",
    "    print(f\"{Dog.type} type is {dog.type}.\")\n",
    "    \n",
    "Question_25()"
   ]
  },
  {
   "cell_type": "markdown",
   "metadata": {},
   "source": [
    "# Q26. 寫個能計算兩數的相加的方法\n",
    "### Question:\n",
    "> Define a function which can compute the sum of two numbers."
   ]
  },
  {
   "cell_type": "code",
   "execution_count": 2,
   "metadata": {},
   "outputs": [
    {
     "name": "stdout",
     "output_type": "stream",
     "text": [
      "Enter num1: 5\n",
      "Enter num2: 7\n",
      "sum=12\n"
     ]
    }
   ],
   "source": [
    "def sum(num1, num2):\n",
    "    return num1+num2\n",
    "\n",
    "def Question_26():\n",
    "    num1 = int(input(\"Enter num1: \"))\n",
    "    num2 = int(input(\"Enter num2: \"))\n",
    "    print(f\"sum={sum(num1,num2)}\")\n",
    "\n",
    "\n",
    "Question_26()"
   ]
  },
  {
   "cell_type": "markdown",
   "metadata": {},
   "source": [
    "# Q27. 將int轉為str\n",
    "### Question:\n",
    "> Define a function that can convert a integer into a string and print it in console.  \n",
    "\n",
    "### Hint:\n",
    "> str()"
   ]
  },
  {
   "cell_type": "code",
   "execution_count": 3,
   "metadata": {},
   "outputs": [
    {
     "name": "stdout",
     "output_type": "stream",
     "text": [
      "Enter num: 345\n",
      "After convert = 345, type is <class 'str'>\n"
     ]
    }
   ],
   "source": [
    "def convert_str(num:int)->str:\n",
    "    return str(num)\n",
    "\n",
    "\n",
    "def Question_27():\n",
    "    num = int(input(\"Enter num: \"))\n",
    "    print(f\"After convert = {convert_str(num)}, type is {type(convert_str(num))}\")\n",
    "\n",
    "\n",
    "Question_27()"
   ]
  }
 ],
 "metadata": {
  "kernelspec": {
   "display_name": "Python 3",
   "language": "python",
   "name": "python3"
  },
  "language_info": {
   "codemirror_mode": {
    "name": "ipython",
    "version": 3
   },
   "file_extension": ".py",
   "mimetype": "text/x-python",
   "name": "python",
   "nbconvert_exporter": "python",
   "pygments_lexer": "ipython3",
   "version": "3.8.1"
  }
 },
 "nbformat": 4,
 "nbformat_minor": 5
}
