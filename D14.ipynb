{
 "cells": [
  {
   "cell_type": "markdown",
   "id": "0287464a",
   "metadata": {},
   "source": [
    "# Q40. 若輸入yes, YES, Yes 輸出Yes, 否則輸出No\n",
    "\n",
    "### Question:\n",
    "> Write a program which accepts a string as input to print \"Yes\" if the string is \"yes\" or \"YES\" or \"Yes\", otherwise print \"No\"."
   ]
  },
  {
   "cell_type": "code",
   "execution_count": 2,
   "id": "e7dd5e64",
   "metadata": {},
   "outputs": [
    {
     "name": "stdout",
     "output_type": "stream",
     "text": [
      "Enter string: yes\n",
      "Yes\n"
     ]
    }
   ],
   "source": [
    "def Question_40():\n",
    "    string = input(\"Enter string: \")\n",
    "    if string in [\"yes\", \"Yes\", \"YES\"]:\n",
    "        print(\"Yes\")\n",
    "    else:\n",
    "        print(\"No\")\n",
    "\n",
    "\n",
    "Question_40()"
   ]
  },
  {
   "cell_type": "markdown",
   "id": "24dc8b0c",
   "metadata": {},
   "source": [
    "# Q41. 用map()建list, 輸出list值的平方\n",
    "\n",
    "### Question:\n",
    "> Write a program which can map() to make a list whose elements are square of elements in [1,2,3,4,5,6,7,8,9,10].  \n",
    "\n",
    "### Hint:\n",
    "> 1. `map()` : https://www.wongwonggoods.com/python/python-map/\n",
    "> \n",
    "> 2. `lambda`"
   ]
  },
  {
   "cell_type": "code",
   "execution_count": 4,
   "id": "1bc7737f",
   "metadata": {},
   "outputs": [
    {
     "name": "stdout",
     "output_type": "stream",
     "text": [
      "result=[1, 4, 9, 16, 25, 36, 49, 64, 81, 100]\n"
     ]
    }
   ],
   "source": [
    "def Question_41(num):\n",
    "    result = map(lambda n: n ** 2, [n for n in range(1, num + 1)])\n",
    "    print(f\"result={list(result)}\")\n",
    "\n",
    "\n",
    "Question_41(10)"
   ]
  },
  {
   "cell_type": "markdown",
   "id": "98bc156c",
   "metadata": {},
   "source": [
    "# Q42. 用map()建list, 輸出list內為偶數的平方值\n",
    "\n",
    "### Question:\n",
    "> Write a program which can map() and filter() to make a list whose elements are square of even number in [1,2,3,4,5,6,7,8,9,10].\n",
    "\n",
    "### Hint:\n",
    "> 1. `map()` : https://www.wongwonggoods.com/python/python-map/\n",
    "> \n",
    "> 2. `lambda`"
   ]
  },
  {
   "cell_type": "code",
   "execution_count": 6,
   "id": "28b35985",
   "metadata": {},
   "outputs": [
    {
     "name": "stdout",
     "output_type": "stream",
     "text": [
      "result=[4, 16, 36, 64, 100]\n"
     ]
    }
   ],
   "source": [
    "def Question_41(num):\n",
    "    result = map(lambda n: n**2, [n for n in range(1, num + 1) if n%2 == 0])\n",
    "    print(f\"result={list(result)}\")\n",
    "\n",
    "\n",
    "Question_41(10)"
   ]
  }
 ],
 "metadata": {
  "kernelspec": {
   "display_name": "Python 3",
   "language": "python",
   "name": "python3"
  },
  "language_info": {
   "codemirror_mode": {
    "name": "ipython",
    "version": 3
   },
   "file_extension": ".py",
   "mimetype": "text/x-python",
   "name": "python",
   "nbconvert_exporter": "python",
   "pygments_lexer": "ipython3",
   "version": "3.8.9"
  }
 },
 "nbformat": 4,
 "nbformat_minor": 5
}
