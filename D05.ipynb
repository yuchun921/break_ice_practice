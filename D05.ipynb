{
 "cells": [
  {
   "cell_type": "markdown",
   "metadata": {},
   "source": [
    "# Q13. 輸入一串文字, 算出字元和數字個數\n",
    "## Question:\n",
    "> Write a program that accepts a sentence and calculate the number of letters and digits.\n",
    "\n",
    "> Suppose the following input is supplied to the program:  \n",
    "\n",
    "hello world! 123\n",
    "\n",
    "> Then, the output should be:  \n",
    "\n",
    "LETTERS 10  \n",
    "DIGITS 3"
   ]
  },
  {
   "cell_type": "code",
   "execution_count": null,
   "metadata": {},
   "outputs": [],
   "source": [
    "import string\n",
    "def Question_13():\n",
    "    word = input()\n",
    "    letter, digits = 0, 0\n",
    "\n",
    "    for c in word:\n",
    "        if c in string.ascii_letters:\n",
    "            letter += 1\n",
    "        elif c in string.digits:\n",
    "            digits +=1\n",
    "\n",
    "    print(f'letter = {letter}, digits = {digits}')\n",
    "\n",
    "Question_13()"
   ]
  },
  {
   "cell_type": "markdown",
   "metadata": {},
   "source": [
    "# Q14. 輸入一串文字, 算出字元和數字個數\n",
    "> Write a program that accepts a sentence and calculate the number of upper case letters and lower case letters.\n",
    "\n",
    "> Suppose the following input is supplied to the program:\n",
    "\n",
    "Hello world!\n",
    "\n",
    "> Then, the output should be:  \n",
    "\n",
    "UPPER CASE 1  \n",
    "LOWER CASE 9"
   ]
  },
  {
   "cell_type": "code",
   "execution_count": null,
   "metadata": {},
   "outputs": [],
   "source": [
    "import string\n",
    "def Question_14():\n",
    "    word = input()\n",
    "    upper, lower = 0, 0\n",
    "\n",
    "    for c in word:\n",
    "        if c in string.ascii_lowercase:\n",
    "            lower += 1\n",
    "        elif c in string.ascii_uppercase:\n",
    "            upper +=1\n",
    "\n",
    "    print(f'lower = {lower}, upper = {upper}')\n",
    "\n",
    "Question_14()"
   ]
  },
  {
   "cell_type": "markdown",
   "metadata": {},
   "source": [
    "# Q15. 輸入的數字作為 a ，計算 a+aa+aaa+aaaa 的值\n",
    "> Write a program that computes the value of a+aa+aaa+aaaa with a given digit as the value of a.\n",
    "\n",
    "> Suppose the following input is supplied to the program:\n",
    "\n",
    "9\n",
    "\n",
    "> Then, the output should be:  \n",
    "\n",
    "11106"
   ]
  },
  {
   "cell_type": "code",
   "execution_count": null,
   "metadata": {},
   "outputs": [],
   "source": [
    "import string\n",
    "def Question_15():\n",
    "    user_input = input() # string\n",
    "    ans, temp = 0, str()\n",
    "\n",
    "    for i in range(4): # a+aa+aaa+aaaa, so range 4\n",
    "        temp += user_input  \n",
    "        ans += int(temp)  \n",
    "    print(ans)\n",
    "\n",
    "Question_15()"
   ]
  }
 ],
 "metadata": {
  "kernelspec": {
   "display_name": "Python 3",
   "language": "python",
   "name": "python3"
  },
  "language_info": {
   "codemirror_mode": {
    "name": "ipython",
    "version": 3
   },
   "file_extension": ".py",
   "mimetype": "text/x-python",
   "name": "python",
   "nbconvert_exporter": "python",
   "pygments_lexer": "ipython3",
   "version": "3.8.1"
  }
 },
 "nbformat": 4,
 "nbformat_minor": 4
}
