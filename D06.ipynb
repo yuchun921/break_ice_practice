{
 "cells": [
  {
   "cell_type": "markdown",
   "metadata": {},
   "source": [
    "# Q16. 用list推導式得到奇數的平方\n",
    "## Question:\n",
    "> Use a list comprehension to square each odd number in a list. The list is input by a sequence of comma-separated numbers.\n",
    "\n",
    "> Suppose the following input is supplied to the program:  \n",
    "\n",
    "1,2,3,4,5,6,7,8,9\n",
    "\n",
    "> Then, the output should be:  \n",
    "\n",
    "1,9,25,49,81"
   ]
  },
  {
   "cell_type": "code",
   "execution_count": null,
   "metadata": {},
   "outputs": [],
   "source": [
    "def Question_16():\n",
    "    numbers = input(\"Enter numbers separated by comma: \")\n",
    "    ans = [str(int(num)**2) for num in numbers.split(\",\") if int(num)%2 != 0]\n",
    "    print(\", \".join(ans))\n",
    "\n",
    "Question_16()"
   ]
  },
  {
   "cell_type": "markdown",
   "metadata": {},
   "source": [
    "# Q17. 根據輸入的金額計算帳戶餘額\n",
    "> Write a program that computes the net amount of a bank account based a transaction log from console input. The transaction log format is shown as following:\n",
    "> D means deposit while W means withdrawal.\n",
    "\n",
    "> Suppose the following input is supplied to the program:\n",
    "\n",
    "D 300  \n",
    "D 300  \n",
    "W 200  \n",
    "D 100\n",
    "\n",
    "> Then, the output should be:  \n",
    "\n",
    "500"
   ]
  },
  {
   "cell_type": "code",
   "execution_count": null,
   "metadata": {},
   "outputs": [],
   "source": [
    "def Question_17():\n",
    "    transaction_log = []\n",
    "    print(f\"The input format is 'D 100' or 'W 100', please follow it.\")\n",
    "    print(f\"If completed, press enter to finish compute.\")\n",
    "    while True:\n",
    "        console = input()\n",
    "        if len(console) == 0:\n",
    "            break\n",
    "        else:\n",
    "            transaction_log.append(console)\n",
    "\n",
    "    account = 0\n",
    "    for info in transaction_log:\n",
    "        if \"D\" in info:\n",
    "            account += int(info.strip(\"D \"))\n",
    "        if \"W\" in info:\n",
    "            account -= int(info.strip(\"W \"))\n",
    "    print(f\"account = {account}\")\n",
    "\n",
    "Question_17()"
   ]
  },
  {
   "cell_type": "code",
   "execution_count": null,
   "metadata": {},
   "outputs": [],
   "source": [
    "def Question_17():\n",
    "    balance = 0\n",
    "    while True:\n",
    "        mode = input(\"Please choose Deposit/Whitdrow/Balance and quit, enter D/W/B: \")\n",
    "        if mode not in [\"D\", \"W\", \"B\"]:\n",
    "            print(\"Please follow rule to enter.\")    \n",
    "        if mode == \"D\":\n",
    "            deposit = int(input(\"How much would you like to deposit? \"))\n",
    "            balance += deposit\n",
    "        elif mode == \"W\":\n",
    "            withdrow = int(input(\"How much would you like to withdrow? \"))\n",
    "            balance -= withdrow\n",
    "        elif mode == \"B\":\n",
    "            print(f\"Balance= {balance}\")\n",
    "            break\n",
    "Question_17()"
   ]
  },
  {
   "cell_type": "markdown",
   "metadata": {},
   "source": [
    "# Q18. 輸入的數組以逗號分隔的密碼, 輸出符合條件的密碼 \n",
    "> A website requires the users to input username and password to register. \n",
    "> Write a program to check the validity of password input by users.  \n",
    "> - At least 1 letter between [a-z]\n",
    "> - At least 1 number between [0-9]\n",
    "> - At least 1 letter between [A-Z]\n",
    "> - At least 1 character from [$#@]\n",
    "> - Minimum length of transaction password: 6\n",
    "> - Maximum length of transaction password: 12\n",
    ">\n",
    "> Your program should accept a sequence of comma separated passwords and will check them according to the above criteria.  \n",
    "> Passwords that match the criteria are to be printed, each separated by a comma.  \n",
    "> Following are the criteria for checking the password:\n",
    "\n",
    "> Suppose the following input is supplied to the program:\n",
    "\n",
    "ABd1234@1,a F1#,2w3E*,2We3345\n",
    "\n",
    "> Then, the output should be:  \n",
    "\n",
    "ABd1234@1"
   ]
  },
  {
   "cell_type": "code",
   "execution_count": 18,
   "metadata": {},
   "outputs": [
    {
     "name": "stdout",
     "output_type": "stream",
     "text": [
      "Enter passwords that need to check: ABd1234@1,a F1#,2w3E*,2We3345\n",
      "match criteria password = ABd1234@1\n"
     ]
    }
   ],
   "source": [
    "from string import ascii_lowercase, ascii_uppercase, digits\n",
    "\n",
    "def check_lower(password):\n",
    "    for c in password:\n",
    "        if c in ascii_lowercase:\n",
    "            return True\n",
    "    return False\n",
    "\n",
    "def check_upper(password):\n",
    "    for c in password:\n",
    "        if c in ascii_uppercase:\n",
    "            return True\n",
    "    return False\n",
    "\n",
    "def check_number(password):\n",
    "    for c in password:\n",
    "        if c in digits:\n",
    "            return True\n",
    "    return False\n",
    "\n",
    "def check_special_char(password):\n",
    "    for c in password:\n",
    "        if c in [\"$\", \"@\", \"#\"]:\n",
    "            return True\n",
    "    return False\n",
    "\n",
    "def check_length(password):\n",
    "    if len(password) >= 6 and len(password) <= 12:\n",
    "        return True\n",
    "    return False\n",
    "\n",
    "def Question_18():\n",
    "    passwords = input(\"Enter passwords that need to check: \").split(\",\")\n",
    "    for password in passwords:\n",
    "        if all(\n",
    "            [\n",
    "                check_lower(password),\n",
    "                check_upper(password),\n",
    "                check_number(password),\n",
    "                check_special_char(password),\n",
    "                check_length(password),\n",
    "            ]\n",
    "        ):\n",
    "            print(f\"match criteria password = {password}\")\n",
    "\n",
    "\n",
    "Question_18()\n"
   ]
  }
 ],
 "metadata": {
  "kernelspec": {
   "display_name": "Python 3",
   "language": "python",
   "name": "python3"
  },
  "language_info": {
   "codemirror_mode": {
    "name": "ipython",
    "version": 3
   },
   "file_extension": ".py",
   "mimetype": "text/x-python",
   "name": "python",
   "nbconvert_exporter": "python",
   "pygments_lexer": "ipython3",
   "version": "3.8.1"
  }
 },
 "nbformat": 4,
 "nbformat_minor": 4
}
