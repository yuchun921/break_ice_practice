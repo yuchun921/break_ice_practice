{
 "cells": [
  {
   "cell_type": "markdown",
   "metadata": {},
   "source": [
    "# Q46. 定義American class 和 subclass NewYorker\n",
    "\n",
    "### Question:\n",
    "> Define a class named American and its subclass NewYorker.\n",
    "\n",
    "### Hint:\n",
    "> Use class Subclass(ParentClass) to define a subclass.*"
   ]
  },
  {
   "cell_type": "code",
   "execution_count": 1,
   "metadata": {},
   "outputs": [
    {
     "name": "stdout",
     "output_type": "stream",
     "text": [
      "<__main__.American object at 0x0000024FD2E6DD30>\n",
      "<__main__.NewYorker object at 0x0000024FD2E6DCA0>\n"
     ]
    }
   ],
   "source": [
    "class American(object):\n",
    "    pass\n",
    "class NewYorker(American):\n",
    "    pass\n",
    "\n",
    "american = American()\n",
    "newyorker = NewYorker()\n",
    "\n",
    "print(american)\n",
    "print(newyorker)"
   ]
  },
  {
   "cell_type": "markdown",
   "metadata": {},
   "source": [
    "# Q47. 建立circle class, 有compute area function.\n",
    "\n",
    "### Question:\n",
    "> Define a class named Circle which can be constructed by a radius. The Circle class has a method which can compute the area. \n",
    "\n",
    "### Hint:\n",
    ">Use def [methodName(self)](https://www.runoob.com/python3/python3-class.html) to define a method."
   ]
  },
  {
   "cell_type": "code",
   "execution_count": 2,
   "metadata": {},
   "outputs": [
    {
     "name": "stdout",
     "output_type": "stream",
     "text": [
      "circle area = 314.0\n"
     ]
    }
   ],
   "source": [
    "class Circle(object):\n",
    "    def __init__(self, r):\n",
    "        self.radius = r\n",
    "    def area(self):\n",
    "        area = self.radius**2*3.14\n",
    "        return area\n",
    "    \n",
    "circle = Circle(10)\n",
    "area = circle.area()\n",
    "print(f\"circle area = {area}\")"
   ]
  },
  {
   "cell_type": "markdown",
   "metadata": {},
   "source": [
    "# Q48. 定義 retangle class, 含計算方形面積function\n",
    "\n",
    "### Question:\n",
    "> Define a class named Rectangle which can be constructed by a length and width. The Rectangle class has a method which can compute the area.\n",
    "\n",
    "### Hint:\n",
    "> Use def [methodName(self)](https://www.runoob.com/python3/python3-class.html) to define a method."
   ]
  },
  {
   "cell_type": "code",
   "execution_count": 3,
   "metadata": {},
   "outputs": [
    {
     "name": "stdout",
     "output_type": "stream",
     "text": [
      "retangle area = 50\n"
     ]
    }
   ],
   "source": [
    "class Retangle(object):\n",
    "    def __init__(self, l, w):\n",
    "        self.length = l\n",
    "        self.width = w\n",
    "    def area(self):\n",
    "        area = self.length * self.width\n",
    "        return area\n",
    "\n",
    "retangle = Retangle(5, 10)\n",
    "area = retangle.area()\n",
    "print(f\"retangle area = {area}\")"
   ]
  }
 ],
 "metadata": {
  "kernelspec": {
   "display_name": "Python 3",
   "language": "python",
   "name": "python3"
  },
  "language_info": {
   "codemirror_mode": {
    "name": "ipython",
    "version": 3
   },
   "file_extension": ".py",
   "mimetype": "text/x-python",
   "name": "python",
   "nbconvert_exporter": "python",
   "pygments_lexer": "ipython3",
   "version": "3.8.1"
  }
 },
 "nbformat": 4,
 "nbformat_minor": 5
}
